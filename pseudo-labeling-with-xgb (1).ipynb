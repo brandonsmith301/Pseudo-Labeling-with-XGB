{
 "cells": [
  {
   "cell_type": "markdown",
   "id": "1daf0c3f",
   "metadata": {
    "papermill": {
     "duration": 0.006796,
     "end_time": "2023-02-26T19:47:51.395685",
     "exception": false,
     "start_time": "2023-02-26T19:47:51.388889",
     "status": "completed"
    },
    "tags": []
   },
   "source": [
    "## Attempt at Pseudo Labeling with XGBClassifier for Season 3, EP 7\n",
    "\n",
    "##### Referencing notebooks where insights and ideas have been gathered:\n",
    "- https://www.kaggle.com/code/cdeotte/pseudo-labeling-qda-0-969\n",
    "- https://www.kaggle.com/code/sergiosaharovskiy/ps-s3e7-2023-eda-and-submission\n",
    "- https://www.kaggle.com/code/martynovandrey/ps-3-7-eda-cv-weights-optimizer\n",
    "- https://www.kaggle.com/code/alexandershumilin/ps-s3-e7-ensemble-model\n",
    "- https://www.kaggle.com/code/icfoer/ps6e7-xgboost-leak\n",
    "- https://www.kaggle.com/code/jcaliz/ps-s03e07-a-complete-eda"
   ]
  },
  {
   "cell_type": "markdown",
   "id": "cc1ec1fb",
   "metadata": {
    "papermill": {
     "duration": 0.005312,
     "end_time": "2023-02-26T19:47:51.406772",
     "exception": false,
     "start_time": "2023-02-26T19:47:51.401460",
     "status": "completed"
    },
    "tags": []
   },
   "source": [
    "I conducted an experiment to test a new approach I recently read about, but unfortunately, it did not yield better results than my previous attempts. I tried four different versions, and the best among them was version 2, which scored 0.92391. However, it was not as good as my attempt using an ensemble model with XGB/RFC, which scored 0.92831. Despite this, I believe it's worth trying this approach in various scenarios as it may produce good results in different contexts. I wonder how these scores will result in the private leaderboard, as the cross-validation scores improved significantly (perhaps overfitting?). For the final submission, I have chosen version 2 using this approach and will keep my (original) previous score of 0.92381.\n",
    "\n",
    "There is a possibility that a different model or ensemble approach might result in a good private score, but it's hard to say for sure. However, based on the results of trying four different versions, it can be concluded that this approach may not be the best for predicting reservation cancellation (haha).\n",
    "\n",
    "**LB SCORES with Pseudo Labeling:**\n",
    "- V1 LB : 0.92386\n",
    "- V2 LB : 0.92391 \n",
    "- V3 LB : 0.92383\n",
    "- V4 LB : 0.92382\n",
    "- V5 LB : 0.92431"
   ]
  },
  {
   "cell_type": "code",
   "execution_count": 1,
   "id": "858a2bdf",
   "metadata": {
    "_cell_guid": "b1076dfc-b9ad-4769-8c92-a6c4dae69d19",
    "_uuid": "8f2839f25d086af736a60e9eeb907d3b93b6e0e5",
    "execution": {
     "iopub.execute_input": "2023-02-26T19:47:51.419170Z",
     "iopub.status.busy": "2023-02-26T19:47:51.418847Z",
     "iopub.status.idle": "2023-02-26T19:47:55.075324Z",
     "shell.execute_reply": "2023-02-26T19:47:55.074295Z"
    },
    "papermill": {
     "duration": 3.666088,
     "end_time": "2023-02-26T19:47:55.078298",
     "exception": false,
     "start_time": "2023-02-26T19:47:51.412210",
     "status": "completed"
    },
    "tags": []
   },
   "outputs": [
    {
     "data": {
      "text/html": [
       "<style type='text/css'>\n",
       ".datatable table.frame { margin-bottom: 0; }\n",
       ".datatable table.frame thead { border-bottom: none; }\n",
       ".datatable table.frame tr.coltypes td {  color: #FFFFFF;  line-height: 6px;  padding: 0 0.5em;}\n",
       ".datatable .bool    { background: #DDDD99; }\n",
       ".datatable .object  { background: #565656; }\n",
       ".datatable .int     { background: #5D9E5D; }\n",
       ".datatable .float   { background: #4040CC; }\n",
       ".datatable .str     { background: #CC4040; }\n",
       ".datatable .time    { background: #40CC40; }\n",
       ".datatable .row_index {  background: var(--jp-border-color3);  border-right: 1px solid var(--jp-border-color0);  color: var(--jp-ui-font-color3);  font-size: 9px;}\n",
       ".datatable .frame tbody td { text-align: left; }\n",
       ".datatable .frame tr.coltypes .row_index {  background: var(--jp-border-color0);}\n",
       ".datatable th:nth-child(2) { padding-left: 12px; }\n",
       ".datatable .hellipsis {  color: var(--jp-cell-editor-border-color);}\n",
       ".datatable .vellipsis {  background: var(--jp-layout-color0);  color: var(--jp-cell-editor-border-color);}\n",
       ".datatable .na {  color: var(--jp-cell-editor-border-color);  font-size: 80%;}\n",
       ".datatable .sp {  opacity: 0.25;}\n",
       ".datatable .footer { font-size: 9px; }\n",
       ".datatable .frame_dimensions {  background: var(--jp-border-color3);  border-top: 1px solid var(--jp-border-color0);  color: var(--jp-ui-font-color3);  display: inline-block;  opacity: 0.6;  padding: 1px 10px 1px 5px;}\n",
       "</style>\n"
      ],
      "text/plain": [
       "<IPython.core.display.HTML object>"
      ]
     },
     "metadata": {},
     "output_type": "display_data"
    }
   ],
   "source": [
    "import numpy as np, pandas as pd, seaborn as sns, matplotlib.pyplot as plt\n",
    "from datetime import timedelta\n",
    "\n",
    "from sklearn.metrics import roc_curve, auc, f1_score, confusion_matrix, roc_auc_score\n",
    "from sklearn.preprocessing import LabelEncoder\n",
    "from sklearn.model_selection import StratifiedKFold, train_test_split\n",
    "from sklearn.utils import shuffle\n",
    "from sklearn.base import clone\n",
    "from sklearn.feature_selection import VarianceThreshold\n",
    "\n",
    "from xgboost import XGBClassifier\n",
    "from lightgbm import LGBMClassifier\n",
    "from sklearn.ensemble import VotingClassifier\n",
    "from sklearn.calibration import CalibratedClassifierCV\n",
    "\n",
    "import random\n",
    "import warnings\n",
    "warnings.filterwarnings(\"ignore\")\n",
    "pd.set_option('display.max_columns', None)"
   ]
  },
  {
   "cell_type": "markdown",
   "id": "33aabf8c",
   "metadata": {
    "papermill": {
     "duration": 0.00377,
     "end_time": "2023-02-26T19:47:55.086243",
     "exception": false,
     "start_time": "2023-02-26T19:47:55.082473",
     "status": "completed"
    },
    "tags": []
   },
   "source": [
    "## Functions"
   ]
  },
  {
   "cell_type": "code",
   "execution_count": 2,
   "id": "d93ed534",
   "metadata": {
    "execution": {
     "iopub.execute_input": "2023-02-26T19:47:55.095673Z",
     "iopub.status.busy": "2023-02-26T19:47:55.095367Z",
     "iopub.status.idle": "2023-02-26T19:47:55.112198Z",
     "shell.execute_reply": "2023-02-26T19:47:55.111135Z"
    },
    "papermill": {
     "duration": 0.024508,
     "end_time": "2023-02-26T19:47:55.114704",
     "exception": false,
     "start_time": "2023-02-26T19:47:55.090196",
     "status": "completed"
    },
    "tags": []
   },
   "outputs": [],
   "source": [
    "def stratified_kfold_train_and_evaluate(X, y, model, predict_test, n_splits=5, predict=True, save_holdout=False, holdout_size=0.2, fold_random_states=None, random_state=42):\n",
    "    # Instantiate StratifiedKFold class\n",
    "    skf = StratifiedKFold(n_splits=n_splits, random_state=random_state, shuffle=True)\n",
    "    # Initialise lists to hold true positive rates and AUC scores for each fold\n",
    "    tprs = []\n",
    "    aucs = []\n",
    "    # Create a mean false positive rate array to evaluate performance\n",
    "    mean_fpr = np.linspace(0, 1, 100)\n",
    "    # Initialise a 2x2 confusion matrix to keep track of true/false positives/negatives\n",
    "    conf_mat = np.zeros((2, 2))\n",
    "\n",
    "    if save_holdout:\n",
    "        if fold_random_states is not None:\n",
    "            holdout_random_state = fold_random_states[-1]\n",
    "            train_random_states = fold_random_states[:-1]\n",
    "        else:\n",
    "            holdout_random_state = random_state\n",
    "            train_random_states = [random_state] * n_splits\n",
    "        # Split data into training and holdout sets\n",
    "        X_train, X_holdout, y_train, y_holdout = train_test_split(X, y, test_size=holdout_size, random_state=holdout_random_state)\n",
    "    else:\n",
    "        X_train, y_train = X, y\n",
    "        train_random_states = [random_state] * n_splits\n",
    "\n",
    "    # Loop over each fold in the StratifiedKFold object\n",
    "    for i, (train, test) in enumerate(skf.split(X_train, y_train)):\n",
    "        # Split data into training and test sets\n",
    "        X_train_fold, X_test = X_train.iloc[train], X_train.iloc[test]\n",
    "        y_train_fold, y_test = y_train.iloc[train], y_train.iloc[test]\n",
    "\n",
    "        # Train the model\n",
    "        model.fit(X_train_fold, y_train_fold)\n",
    "\n",
    "    # Create a new figure and axis to plot results\n",
    "    fig, ax = plt.subplots()\n",
    "\n",
    "    # Loop over each fold in the StratifiedKFold object\n",
    "    for i, (train, test) in enumerate(skf.split(X_train, y_train)):\n",
    "        print(f'Fold {i + 1}')\n",
    "        # Split data into training and test sets\n",
    "        X_train_fold, X_test = X_train.iloc[train], X_train.iloc[test]\n",
    "        y_train_fold, y_test = y_train.iloc[train], y_train.iloc[test]\n",
    "\n",
    "        # Train the model\n",
    "        model.fit(X_train_fold, y_train_fold)\n",
    "\n",
    "        # Predict the probabilities of the test set and calculate the ROC curve\n",
    "        y_pred_proba = model.predict_proba(X_test)[:, 1]\n",
    "        fpr, tpr, thresholds = roc_curve(y_test, y_pred_proba)\n",
    "        tprs.append(np.interp(mean_fpr, fpr, tpr))\n",
    "        roc_auc = auc(fpr, tpr)\n",
    "        aucs.append(roc_auc)\n",
    "        # Plot the ROC curve for each fold\n",
    "        plt.plot(fpr, tpr, lw=1, alpha=0.3, label=f'Fold {i+1} (AUC = {roc_auc:.2f})')\n",
    "        print(f'  AUC: {roc_auc:.4f}')\n",
    "\n",
    "    # Calculate the mean true positive rate and AUC across all folds\n",
    "    mean_tpr = np.mean(tprs, axis=0)\n",
    "    mean_auc = round(auc(mean_fpr, mean_tpr),4)\n",
    "    std_auc = np.std(aucs)\n",
    "    # Plot the mean ROC curve\n",
    "    plt.plot(mean_fpr, mean_tpr, color='b', label=f'Mean (AUC = {mean_auc:.2f} $\\pm$ {std_auc:.2f})', lw=2, alpha=.8)\n",
    "\n",
    "    # Add a line for a random classifier\n",
    "    plt.plot([0, 1], [0, 1], linestyle='--', lw=2, color='r', label='Random', alpha=.8)\n",
    "    plt.xlim([-0.05, 1.05])\n",
    "    plt.ylim([-0.05, 1.05])\n",
    "    plt.xlabel('False Positive Rate')\n",
    "    plt.ylabel('True Positive Rate')\n",
    "    plt.title('ROC Curve')\n",
    "    plt.legend(loc=\"lower right\")\n",
    "    plt.show()\n",
    "    \n",
    "    if save_holdout:\n",
    "        # Train the model on the full training dataset and predict on the holdout set\n",
    "        model.fit(X_train, y_train)\n",
    "        y_holdout_pred_proba = model.predict_proba(X_holdout)[:, 1]\n",
    "        holdout_fpr, holdout_tpr, holdout_thresholds = roc_curve(y_holdout, y_holdout_pred_proba)\n",
    "        holdout_auc = round(auc(holdout_fpr, holdout_tpr), 4)\n",
    "        print(f'Holdout AUC score: {holdout_auc}')\n",
    "\n",
    "    if predict:\n",
    "        # Use the trained model to predict on the given test dataset\n",
    "        model.fit(X, y)\n",
    "        y_test_prob = model.predict_proba(predict_test)[:, 1]\n",
    "\n",
    "        return y_test_prob\n"
   ]
  },
  {
   "cell_type": "code",
   "execution_count": 3,
   "id": "cacc3037",
   "metadata": {
    "execution": {
     "iopub.execute_input": "2023-02-26T19:47:55.123892Z",
     "iopub.status.busy": "2023-02-26T19:47:55.123635Z",
     "iopub.status.idle": "2023-02-26T19:47:55.141596Z",
     "shell.execute_reply": "2023-02-26T19:47:55.140718Z"
    },
    "papermill": {
     "duration": 0.025115,
     "end_time": "2023-02-26T19:47:55.143721",
     "exception": false,
     "start_time": "2023-02-26T19:47:55.118606",
     "status": "completed"
    },
    "tags": []
   },
   "outputs": [],
   "source": [
    "def return_csv():\n",
    "    train = pd.read_csv('/kaggle/input/playground-series-s3e7/train.csv')\n",
    "    test = pd.read_csv('/kaggle/input/playground-series-s3e7/test.csv')\n",
    "    additional_train = pd.read_csv('/kaggle/input/reservation-cancellation-prediction/train__dataset.csv')\n",
    "    additional_test = pd.read_csv('/kaggle/input/reservation-cancellation-prediction/test___dataset.csv')\n",
    "    \n",
    "    return train, test, additional_train, additional_test\n",
    "\n",
    "def process_data(df):\n",
    "    # Create derived features - https://www.kaggle.com/code/martynovandrey/ps-3-7-eda-cv-weights-optimizer\n",
    "    df['nights'] = df['no_of_weekend_nights'] + df['no_of_week_nights']\n",
    "    df['lead_x_nights'] = df['lead_time'] * df['nights']\n",
    "    df['arrival'] = pd.to_datetime(df['arrival_year'].astype(str) + \"/\" + df['arrival_month'].astype(str) + \"/\" + df['arrival_date'].astype(str), errors='coerce')\n",
    "    df['arrival'] = df['arrival'].replace(pd.Timestamp('NaT'), pd.to_datetime('2018-02-28'))\n",
    "    df['booking'] = df['arrival'] - pd.to_timedelta(df['lead_time'], unit='D')\n",
    "    df['departure'] = df['arrival'] + pd.to_timedelta(df['nights'], unit='D')\n",
    "    df['room_type_cat'] = df['room_type_reserved'].astype('int')\n",
    "    \n",
    "#     # Binning lead_time into categories\n",
    "    bins = [-1, 7, 14, 30, 60, np.inf]\n",
    "    labels = [0, 1, 2, 3, 4]\n",
    "    df['lead_time_cat'] = pd.cut(df['lead_time'], bins=bins, labels=labels)\n",
    "    \n",
    "    # Creating categorical variables for previous cancellations and bookings\n",
    "    df['prev_cancel_cat'] = pd.cut(df['no_of_previous_cancellations'], bins=[-1, 0, 1, np.inf], labels=[0, 1, 2])\n",
    "    df['prev_bookings_cat'] = pd.cut(df['no_of_previous_bookings_not_canceled'], bins=[-1, 0, 1, 2, np.inf], labels=[0, 1, 2, 3])\n",
    "    \n",
    "    # Creating dummy variables for room_type_cat and month\n",
    "    df = pd.get_dummies(df, columns=['room_type_cat', 'arrival_month'], prefix=['room_type', 'month'])\n",
    "    \n",
    "    df['lead_time_cat'] = df['lead_time_cat'].astype('int')\n",
    "    df['prev_cancel_cat'] = df['prev_cancel_cat'].astype('int')\n",
    "    df['prev_bookings_cat'] = df['prev_bookings_cat'].astype('int')\n",
    "\n",
    "    return df\n",
    "\n",
    "def date_transform(train):\n",
    "    # Extract year, month, day, day of the week, and season\n",
    "    train['arrival_year'] = train['arrival'].dt.year\n",
    "    train['arrival_month'] = train['arrival'].dt.month\n",
    "    train['arrival_day'] = train['arrival'].dt.day\n",
    "    train['arrival_weekday'] = train['arrival'].dt.weekday\n",
    "    train['arrival_season'] = ((train['arrival'].dt.month % 12 + 3) // 3).astype(int)\n",
    "\n",
    "    train['booking_year'] = train['booking'].dt.year\n",
    "    train['booking_month'] = train['booking'].dt.month\n",
    "    train['booking_day'] = train['booking'].dt.day\n",
    "    train['booking_weekday'] = train['booking'].dt.weekday\n",
    "    train['booking_season'] = ((train['booking'].dt.month % 12 + 3) // 3).astype(int)\n",
    "\n",
    "    train['departure_year'] = train['departure'].dt.year\n",
    "    train['departure_month'] = train['departure'].dt.month\n",
    "    train['departure_day'] = train['departure'].dt.day\n",
    "    train['departure_weekday'] = train['departure'].dt.weekday\n",
    "    train['departure_season'] = ((train['departure'].dt.month % 12 + 3) // 3).astype(int)\n",
    "\n",
    "    # Drop the original datetime columns\n",
    "    train.drop(['arrival', 'booking', 'departure'], axis=1, inplace=True)\n",
    "\n",
    "    # Drop other columns that are no longer needed\n",
    "    train.drop(['arrival_year', 'booking_year', 'departure_year'], axis=1, inplace=True) # If you want to exclude the year feature from the model.\n",
    "    return train\n",
    "\n",
    "def extra_engineering(train):\n",
    "    conditions = [    \n",
    "        train['required_car_parking_space'] == 0,\n",
    "        train['lead_time'] >= 5,\n",
    "        train['market_segment_type'] == 1,\n",
    "        train['repeated_guest'] == 0,\n",
    "        train['no_of_previous_cancellations'] == 0,\n",
    "        train['no_of_special_requests'] == 0,\n",
    "        train['lead_x_nights'] >= 6,\n",
    "        train['lead_time_cat'] == 4,\n",
    "        train['prev_cancel_cat'] == 0,\n",
    "        train['prev_bookings_cat'] == 0,\n",
    "        train['month_1'] == 0\n",
    "    ]\n",
    "\n",
    "    extra_features = np.sum(conditions, axis=0)\n",
    "    train['extra_features'] = extra_features\n",
    "\n",
    "    return train"
   ]
  },
  {
   "cell_type": "markdown",
   "id": "b9867cc7",
   "metadata": {
    "papermill": {
     "duration": 0.003665,
     "end_time": "2023-02-26T19:47:55.151307",
     "exception": false,
     "start_time": "2023-02-26T19:47:55.147642",
     "status": "completed"
    },
    "tags": []
   },
   "source": [
    "## Load Data"
   ]
  },
  {
   "cell_type": "code",
   "execution_count": 4,
   "id": "09cacc33",
   "metadata": {
    "execution": {
     "iopub.execute_input": "2023-02-26T19:47:55.160309Z",
     "iopub.status.busy": "2023-02-26T19:47:55.160053Z",
     "iopub.status.idle": "2023-02-26T19:47:55.677736Z",
     "shell.execute_reply": "2023-02-26T19:47:55.676668Z"
    },
    "papermill": {
     "duration": 0.525042,
     "end_time": "2023-02-26T19:47:55.680285",
     "exception": false,
     "start_time": "2023-02-26T19:47:55.155243",
     "status": "completed"
    },
    "tags": []
   },
   "outputs": [],
   "source": [
    "train, test, additional_train, _ = return_csv()\n",
    "train.drop(columns=['id'],axis=1,inplace=True),test.drop(columns=['id'],axis=1,inplace=True)\n",
    "train, additional_train, test = process_data(train),process_data(additional_train),process_data(test)\n",
    "train = pd.concat([train,additional_train],axis=0)"
   ]
  },
  {
   "cell_type": "code",
   "execution_count": 5,
   "id": "522c6191",
   "metadata": {
    "execution": {
     "iopub.execute_input": "2023-02-26T19:47:55.690662Z",
     "iopub.status.busy": "2023-02-26T19:47:55.690012Z",
     "iopub.status.idle": "2023-02-26T19:47:55.882328Z",
     "shell.execute_reply": "2023-02-26T19:47:55.881097Z"
    },
    "papermill": {
     "duration": 0.200271,
     "end_time": "2023-02-26T19:47:55.884959",
     "exception": false,
     "start_time": "2023-02-26T19:47:55.684688",
     "status": "completed"
    },
    "tags": []
   },
   "outputs": [],
   "source": [
    "train, test = extra_engineering(train), extra_engineering(test)\n",
    "train, test = date_transform(train), date_transform(test)"
   ]
  },
  {
   "cell_type": "markdown",
   "id": "f725b531",
   "metadata": {
    "papermill": {
     "duration": 0.003956,
     "end_time": "2023-02-26T19:47:55.893418",
     "exception": false,
     "start_time": "2023-02-26T19:47:55.889462",
     "status": "completed"
    },
    "tags": []
   },
   "source": [
    "## Train and view performance without Pseudo Labeling"
   ]
  },
  {
   "cell_type": "code",
   "execution_count": 6,
   "id": "4b38633b",
   "metadata": {
    "execution": {
     "iopub.execute_input": "2023-02-26T19:47:55.903276Z",
     "iopub.status.busy": "2023-02-26T19:47:55.902638Z",
     "iopub.status.idle": "2023-02-26T19:47:55.907354Z",
     "shell.execute_reply": "2023-02-26T19:47:55.906317Z"
    },
    "papermill": {
     "duration": 0.011923,
     "end_time": "2023-02-26T19:47:55.909465",
     "exception": false,
     "start_time": "2023-02-26T19:47:55.897542",
     "status": "completed"
    },
    "tags": []
   },
   "outputs": [],
   "source": [
    "features = [i for i in train.columns if i != 'booking_status']\n",
    "target = 'booking_status'"
   ]
  },
  {
   "cell_type": "code",
   "execution_count": 7,
   "id": "45e5abc7",
   "metadata": {
    "execution": {
     "iopub.execute_input": "2023-02-26T19:47:55.919108Z",
     "iopub.status.busy": "2023-02-26T19:47:55.918829Z",
     "iopub.status.idle": "2023-02-26T19:47:55.924888Z",
     "shell.execute_reply": "2023-02-26T19:47:55.923731Z"
    },
    "papermill": {
     "duration": 0.013389,
     "end_time": "2023-02-26T19:47:55.926904",
     "exception": false,
     "start_time": "2023-02-26T19:47:55.913515",
     "status": "completed"
    },
    "tags": []
   },
   "outputs": [],
   "source": [
    "xgb_params = {\n",
    "    'learning_rate': 0.05,\n",
    "    'max_depth': 4,\n",
    "    'min_child_weight': 5,\n",
    "    'subsample': 0.9,\n",
    "    'colsample_bytree': 0.5,\n",
    "    'objective': 'binary:logistic',\n",
    "    'eval_metric': 'auc',\n",
    "    'seed': 42,\n",
    "    'n_estimators': 3000,\n",
    "    'tree_method': 'gpu_hist',\n",
    "    'reg_alpha': 0.1, \n",
    "    'reg_lambda': 0.1\n",
    "}\n",
    "\n",
    "lgbm_params = {\n",
    "    'n_jobs': -1,\n",
    "    'device': 'gpu',\n",
    "    'gpu_platform_id': 0,\n",
    "    'gpu_device_id': 0,\n",
    "    'objective': 'binary',\n",
    "    'boosting_type': 'gbdt',\n",
    "    'learning_rate': 0.05,\n",
    "    'metric': 'auc',\n",
    "    'random_state': 42,\n",
    "    'n_estimators': 3000,\n",
    "}"
   ]
  },
  {
   "cell_type": "code",
   "execution_count": 8,
   "id": "15716f42",
   "metadata": {
    "execution": {
     "iopub.execute_input": "2023-02-26T19:47:55.937200Z",
     "iopub.status.busy": "2023-02-26T19:47:55.936479Z",
     "iopub.status.idle": "2023-02-26T19:47:55.944097Z",
     "shell.execute_reply": "2023-02-26T19:47:55.943036Z"
    },
    "papermill": {
     "duration": 0.015293,
     "end_time": "2023-02-26T19:47:55.946635",
     "exception": false,
     "start_time": "2023-02-26T19:47:55.931342",
     "status": "completed"
    },
    "tags": []
   },
   "outputs": [],
   "source": [
    "class LGBM_XGB_Classifier:\n",
    "    def __init__(self, xgb_params=None, lgbm_params=None):\n",
    "        self.xgb = XGBClassifier(**xgb_params) if xgb_params else XGBClassifier()\n",
    "        self.lgbm = LGBMClassifier(**lgbm_params) if lgbm_params else LGBMClassifier()\n",
    "        \n",
    "    def fit(self, X, y):\n",
    "        self.xgb.fit(X, y)\n",
    "        self.lgbm.fit(X, y)\n",
    "\n",
    "    def predict(self, X):\n",
    "        return (self.xgb.predict_proba(X) * 0.7 + self.lgbm.predict_proba(X) * 0.3)[:, 1]\n",
    "\n",
    "    def predict_proba(self, X, weights=None):\n",
    "        xgb_proba = self.xgb.predict_proba(X)\n",
    "        lgbm_proba = self.lgbm.predict_proba(X)\n",
    "        if weights is None:\n",
    "            weights = [0.8, 0.2]  # Default to equal weights\n",
    "        assert len(weights) == 2, \"Weights must be a list of length 2\"\n",
    "        weighted_proba = (weights[0] * xgb_proba + weights[1] * lgbm_proba) / sum(weights)\n",
    "        return weighted_proba"
   ]
  },
  {
   "cell_type": "code",
   "execution_count": 9,
   "id": "fc8dc76c",
   "metadata": {
    "execution": {
     "iopub.execute_input": "2023-02-26T19:47:55.955948Z",
     "iopub.status.busy": "2023-02-26T19:47:55.955685Z",
     "iopub.status.idle": "2023-02-26T19:51:39.708123Z",
     "shell.execute_reply": "2023-02-26T19:51:39.706453Z"
    },
    "papermill": {
     "duration": 223.760886,
     "end_time": "2023-02-26T19:51:39.711623",
     "exception": false,
     "start_time": "2023-02-26T19:47:55.950737",
     "status": "completed"
    },
    "tags": []
   },
   "outputs": [
    {
     "name": "stdout",
     "output_type": "stream",
     "text": [
      "Fold 1\n",
      "  AUC: 0.9121\n",
      "Fold 2\n",
      "  AUC: 0.9104\n",
      "Fold 3\n",
      "  AUC: 0.9142\n",
      "Fold 4\n",
      "  AUC: 0.9068\n",
      "Fold 5\n",
      "  AUC: 0.9039\n"
     ]
    },
    {
     "data": {
      "image/png": "[encoded data removed]",
      "text/plain": [
       "<Figure size 640x480 with 1 Axes>"
      ]
     },
     "metadata": {},
     "output_type": "display_data"
    },
    {
     "name": "stdout",
     "output_type": "stream",
     "text": [
      "Holdout AUC score: 0.9126\n"
     ]
    }
   ],
   "source": [
    "fold_random_states = [42, 23, 17, 8, 99, 123]\n",
    "\n",
    "model = LGBM_XGB_Classifier(xgb_params=xgb_params, lgbm_params=lgbm_params)\n",
    "stratified_kfold_train_and_evaluate(train[features], train[target], model, test, n_splits=5, save_holdout=True, predict=False, fold_random_states=fold_random_states)"
   ]
  },
  {
   "cell_type": "markdown",
   "id": "dfd3ff4e",
   "metadata": {
    "papermill": {
     "duration": 0.005061,
     "end_time": "2023-02-26T19:51:39.722214",
     "exception": false,
     "start_time": "2023-02-26T19:51:39.717153",
     "status": "completed"
    },
    "tags": []
   },
   "source": [
    "- V1 : Holdout AUC score (without Pseudo Labeling) : 0.9088 \n",
    "- V2 : Holdout AUC score (without Pseudo Labeling) : 0.9091 - **only changes here was the use of CalibratedClassifierCV**\n",
    "- V3 : Holdout AUC score (without Pseudo Labeling) : - \n",
    "- V4 : Holdout AUC score (without Pseudo Labeling) : 0.9115 - **updated CalibratedClassifierCV to 'sigmoid'**\n",
    "- V5 : Holdout AUC score (without Pseudo Labeling) : 0.9155 - **updated model to ensemble (LGBM/XGB)**"
   ]
  },
  {
   "cell_type": "markdown",
   "id": "e7e37223",
   "metadata": {
    "papermill": {
     "duration": 0.005543,
     "end_time": "2023-02-26T19:51:39.733542",
     "exception": false,
     "start_time": "2023-02-26T19:51:39.727999",
     "status": "completed"
    },
    "tags": []
   },
   "source": [
    "## Train and view performance with Pseudo Labeling\n",
    "\n",
    "The paper <a href=\"https://arxiv.org/pdf/2101.06329.pdf\">IN DEFENSE OF PSEUDO-LABELING:\n",
    "AN UNCERTAINTY-AWARE PSEUDO-LABEL SELECTION FRAMEWORK FOR SEMI-SUPERVISED LEARNING</a> presents a new algorithm called Uncertainty-aware Pseudo-label Selection (UPS) for semi-supervised learning. This method updates the model's parameters using a combination of labeled data and selected pseudo-labeled data, and then selects new pseudo-labeled data based on the updated model. This approach improves the quality of pseudo-labeled data by selecting the most confident samples and discarding unreliable pseudo-labeled samples.\n",
    "\n",
    "The first function I used implements a simple form of pseudo-labeling. It trains an XGBoost model on the labeled data, makes predictions on the test data, and selects the test samples with high prediction confidence to be added to the training set as pseudo-labeled data. The process is repeated several times to accumulate a larger training set.\n",
    "\n",
    "The second function below implements a more advanced version of pseudo-labeling, called Uncertainty-aware Pseudo-label Selection (UPS), which uses a more sophisticated method to select high-confidence pseudo-labeled data. The algorithm iteratively updates the model's parameters using a subset of the available labeled data and all of the selected pseudo-labeled data, then selects new pseudo-labeled data based on the updated model. The process is repeated for several iterations to improve the quality of the pseudo-labeled data. The final model is evaluated using k-fold cross-validation."
   ]
  },
  {
   "cell_type": "code",
   "execution_count": 10,
   "id": "9c7519a0",
   "metadata": {
    "execution": {
     "iopub.execute_input": "2023-02-26T19:51:39.745752Z",
     "iopub.status.busy": "2023-02-26T19:51:39.745429Z",
     "iopub.status.idle": "2023-02-26T19:51:39.755706Z",
     "shell.execute_reply": "2023-02-26T19:51:39.754580Z"
    },
    "papermill": {
     "duration": 0.019045,
     "end_time": "2023-02-26T19:51:39.757789",
     "exception": false,
     "start_time": "2023-02-26T19:51:39.738744",
     "status": "completed"
    },
    "tags": []
   },
   "outputs": [],
   "source": [
    "def uncertainty_pseudolabel(train, test, features, target, uncertainty_threshold=0.9999): \n",
    "    # Initialise variables\n",
    "    cols = features\n",
    "    \n",
    "    # Train model and predict probabilities for test set\n",
    "#     clf = XGBClassifier(**xgb_params) \n",
    "#     clf = CalibratedClassifierCV(clf, cv=5, method='sigmoid')\n",
    "    clf = LGBM_XGB_Classifier(xgb_params=xgb_params, lgbm_params=lgbm_params)\n",
    "    clf.fit(train[cols], train[target])\n",
    "    test_probabilities = clf.predict_proba(test[cols])[:, 1]\n",
    "\n",
    "    # Select test samples that are highly confident\n",
    "    test_high_confidence = (test_probabilities > uncertainty_threshold) | (test_probabilities < 1 - uncertainty_threshold)\n",
    "    test_high_confidence_df = test[test_high_confidence].copy()\n",
    "\n",
    "    # Pseudo-label the highly confident test samples and add to the training set\n",
    "    test_high_confidence_df[target] = np.where(test_probabilities[test_high_confidence] > 0.5, 1, 0)\n",
    "    train = pd.concat([train, test_high_confidence_df], axis=0)\n",
    "    train.reset_index(drop=True, inplace=True)\n",
    "    \n",
    "    # Train model on the combined training set and evaluate using k-fold cross validation\n",
    "    clf.fit(train[cols], train[target])\n",
    "    for i in range(5):  # perform five iterations of UPS algorithm\n",
    "        # Predict probabilities for all unlabeled samples\n",
    "        probabilities = clf.predict_proba(test[cols])[:, 1]\n",
    "\n",
    "        # Find the top n unlabeled samples with highest predicted probabilities\n",
    "        n = int(0.2 * len(test))  # select top 20% of unlabeled samples\n",
    "        indices = np.argsort(probabilities)[-n:]\n",
    "        new_pseudo_labels = pd.Series(np.where(probabilities[indices] > 0.5, 1, 0), index=indices)\n",
    "\n",
    "        # Add the new pseudo-labeled samples to the training set\n",
    "        train = pd.concat([train, test.loc[indices]], axis=0)\n",
    "        train[target] = train[target].astype('float').fillna(new_pseudo_labels)\n",
    "\n",
    "        # Train the model on the updated training set\n",
    "        clf.fit(train[cols], train[target])\n",
    "\n",
    "    # Evaluate the final model using k-fold cross validation\n",
    "    prediction = stratified_kfold_train_and_evaluate(train[features], train[target], clf, test, n_splits=5, save_holdout=True, predict=True)\n",
    "\n",
    "    return prediction"
   ]
  },
  {
   "cell_type": "code",
   "execution_count": 11,
   "id": "95cdaf52",
   "metadata": {
    "execution": {
     "iopub.execute_input": "2023-02-26T19:51:39.770239Z",
     "iopub.status.busy": "2023-02-26T19:51:39.769688Z",
     "iopub.status.idle": "2023-02-26T19:59:35.029143Z",
     "shell.execute_reply": "2023-02-26T19:59:35.028098Z"
    },
    "papermill": {
     "duration": 475.268952,
     "end_time": "2023-02-26T19:59:35.032001",
     "exception": false,
     "start_time": "2023-02-26T19:51:39.763049",
     "status": "completed"
    },
    "tags": []
   },
   "outputs": [
    {
     "name": "stdout",
     "output_type": "stream",
     "text": [
      "Fold 1\n",
      "  AUC: 0.9605\n",
      "Fold 2\n",
      "  AUC: 0.9576\n",
      "Fold 3\n",
      "  AUC: 0.9559\n",
      "Fold 4\n",
      "  AUC: 0.9548\n",
      "Fold 5\n",
      "  AUC: 0.9555\n"
     ]
    },
    {
     "data": {
      "image/png": "[encoded data removed]",
      "text/plain": [
       "<Figure size 640x480 with 1 Axes>"
      ]
     },
     "metadata": {},
     "output_type": "display_data"
    },
    {
     "name": "stdout",
     "output_type": "stream",
     "text": [
      "Holdout AUC score: 0.956\n"
     ]
    }
   ],
   "source": [
    "prediction = uncertainty_pseudolabel(train, test, features, target)"
   ]
  },
  {
   "cell_type": "markdown",
   "id": "1839d54c",
   "metadata": {
    "papermill": {
     "duration": 0.01173,
     "end_time": "2023-02-26T19:59:35.053137",
     "exception": false,
     "start_time": "2023-02-26T19:59:35.041407",
     "status": "completed"
    },
    "tags": []
   },
   "source": [
    "- V1 : Holdout AUC score (with Pseudo Labeling) : 0.9167 - **simple form of pseudo-labeling**\n",
    "- V2 : Holdout AUC score (with Pseudo Labeling) : 0.9589 - **using uncertainty-aware pseudo-label selection (UPS)**\n",
    "- V3 : Holdout AUC score (with Pseudo Labeling) : 0.9523 - **decreased iterations to 3 and removed CalibratedClassifierCV**\n",
    "- V4 : Holdout AUC score (with Pseudo Labeling) : 0.9482 - **decreased iterations to 3 and updated CalibratedClassifierCV to 'sigmoid' and uncertainty_threshold to 0.995**\n",
    "- V5 : Holdout AUC score (with Pseudo Labeling) : 0.9521 - **decreased iterations to 3 and updated model to LGBM/XGB and uncertainty_threshold to 0.995**"
   ]
  },
  {
   "cell_type": "code",
   "execution_count": 12,
   "id": "ac3a181a",
   "metadata": {
    "execution": {
     "iopub.execute_input": "2023-02-26T19:59:35.082980Z",
     "iopub.status.busy": "2023-02-26T19:59:35.081711Z",
     "iopub.status.idle": "2023-02-26T19:59:35.262563Z",
     "shell.execute_reply": "2023-02-26T19:59:35.261436Z"
    },
    "papermill": {
     "duration": 0.198799,
     "end_time": "2023-02-26T19:59:35.265820",
     "exception": false,
     "start_time": "2023-02-26T19:59:35.067021",
     "status": "completed"
    },
    "tags": []
   },
   "outputs": [
    {
     "data": {
      "text/html": [
       "<div>\n",
       "<style scoped>\n",
       "    .dataframe tbody tr th:only-of-type {\n",
       "        vertical-align: middle;\n",
       "    }\n",
       "\n",
       "    .dataframe tbody tr th {\n",
       "        vertical-align: top;\n",
       "    }\n",
       "\n",
       "    .dataframe thead th {\n",
       "        text-align: right;\n",
       "    }\n",
       "</style>\n",
       "<table border=\"1\" class=\"dataframe\">\n",
       "  <thead>\n",
       "    <tr style=\"text-align: right;\">\n",
       "      <th></th>\n",
       "      <th>id</th>\n",
       "      <th>booking_status</th>\n",
       "    </tr>\n",
       "  </thead>\n",
       "  <tbody>\n",
       "    <tr>\n",
       "      <th>0</th>\n",
       "      <td>42100</td>\n",
       "      <td>0.144274</td>\n",
       "    </tr>\n",
       "    <tr>\n",
       "      <th>1</th>\n",
       "      <td>42101</td>\n",
       "      <td>0.110346</td>\n",
       "    </tr>\n",
       "    <tr>\n",
       "      <th>2</th>\n",
       "      <td>42102</td>\n",
       "      <td>0.144047</td>\n",
       "    </tr>\n",
       "    <tr>\n",
       "      <th>3</th>\n",
       "      <td>42103</td>\n",
       "      <td>0.033222</td>\n",
       "    </tr>\n",
       "    <tr>\n",
       "      <th>4</th>\n",
       "      <td>42104</td>\n",
       "      <td>0.324615</td>\n",
       "    </tr>\n",
       "    <tr>\n",
       "      <th>5</th>\n",
       "      <td>42105</td>\n",
       "      <td>0.955893</td>\n",
       "    </tr>\n",
       "    <tr>\n",
       "      <th>6</th>\n",
       "      <td>42106</td>\n",
       "      <td>0.369868</td>\n",
       "    </tr>\n",
       "    <tr>\n",
       "      <th>7</th>\n",
       "      <td>42107</td>\n",
       "      <td>0.960697</td>\n",
       "    </tr>\n",
       "    <tr>\n",
       "      <th>8</th>\n",
       "      <td>42108</td>\n",
       "      <td>0.000311</td>\n",
       "    </tr>\n",
       "    <tr>\n",
       "      <th>9</th>\n",
       "      <td>42109</td>\n",
       "      <td>0.519263</td>\n",
       "    </tr>\n",
       "  </tbody>\n",
       "</table>\n",
       "</div>"
      ],
      "text/plain": [
       "      id  booking_status\n",
       "0  42100        0.144274\n",
       "1  42101        0.110346\n",
       "2  42102        0.144047\n",
       "3  42103        0.033222\n",
       "4  42104        0.324615\n",
       "5  42105        0.955893\n",
       "6  42106        0.369868\n",
       "7  42107        0.960697\n",
       "8  42108        0.000311\n",
       "9  42109        0.519263"
      ]
     },
     "execution_count": 12,
     "metadata": {},
     "output_type": "execute_result"
    }
   ],
   "source": [
    "sub = pd.read_csv('/kaggle/input/playground-series-s3e7/sample_submission.csv')\n",
    "sub.booking_status = prediction\n",
    "sub.to_csv('submission.csv', index=False)\n",
    "sub.head(10)"
   ]
  },
  {
   "cell_type": "code",
   "execution_count": 13,
   "id": "5ffde4be",
   "metadata": {
    "execution": {
     "iopub.execute_input": "2023-02-26T19:59:35.290783Z",
     "iopub.status.busy": "2023-02-26T19:59:35.290248Z",
     "iopub.status.idle": "2023-02-26T19:59:35.570480Z",
     "shell.execute_reply": "2023-02-26T19:59:35.569521Z"
    },
    "papermill": {
     "duration": 0.295263,
     "end_time": "2023-02-26T19:59:35.573343",
     "exception": false,
     "start_time": "2023-02-26T19:59:35.278080",
     "status": "completed"
    },
    "tags": []
   },
   "outputs": [
    {
     "data": {
      "text/html": [
       "<div>\n",
       "<style scoped>\n",
       "    .dataframe tbody tr th:only-of-type {\n",
       "        vertical-align: middle;\n",
       "    }\n",
       "\n",
       "    .dataframe tbody tr th {\n",
       "        vertical-align: top;\n",
       "    }\n",
       "\n",
       "    .dataframe thead th {\n",
       "        text-align: right;\n",
       "    }\n",
       "</style>\n",
       "<table border=\"1\" class=\"dataframe\">\n",
       "  <thead>\n",
       "    <tr style=\"text-align: right;\">\n",
       "      <th></th>\n",
       "      <th>id</th>\n",
       "      <th>booking_status</th>\n",
       "    </tr>\n",
       "  </thead>\n",
       "  <tbody>\n",
       "    <tr>\n",
       "      <th>48</th>\n",
       "      <td>42148</td>\n",
       "      <td>6.363690e-07</td>\n",
       "    </tr>\n",
       "    <tr>\n",
       "      <th>92</th>\n",
       "      <td>42192</td>\n",
       "      <td>6.363690e-07</td>\n",
       "    </tr>\n",
       "    <tr>\n",
       "      <th>159</th>\n",
       "      <td>42259</td>\n",
       "      <td>6.363690e-07</td>\n",
       "    </tr>\n",
       "    <tr>\n",
       "      <th>300</th>\n",
       "      <td>42400</td>\n",
       "      <td>6.363690e-07</td>\n",
       "    </tr>\n",
       "    <tr>\n",
       "      <th>319</th>\n",
       "      <td>42419</td>\n",
       "      <td>6.363690e-07</td>\n",
       "    </tr>\n",
       "    <tr>\n",
       "      <th>346</th>\n",
       "      <td>42446</td>\n",
       "      <td>6.363690e-07</td>\n",
       "    </tr>\n",
       "    <tr>\n",
       "      <th>374</th>\n",
       "      <td>42474</td>\n",
       "      <td>9.998258e-01</td>\n",
       "    </tr>\n",
       "    <tr>\n",
       "      <th>429</th>\n",
       "      <td>42529</td>\n",
       "      <td>6.363690e-07</td>\n",
       "    </tr>\n",
       "    <tr>\n",
       "      <th>472</th>\n",
       "      <td>42572</td>\n",
       "      <td>9.998258e-01</td>\n",
       "    </tr>\n",
       "    <tr>\n",
       "      <th>537</th>\n",
       "      <td>42637</td>\n",
       "      <td>9.998258e-01</td>\n",
       "    </tr>\n",
       "  </tbody>\n",
       "</table>\n",
       "</div>"
      ],
      "text/plain": [
       "        id  booking_status\n",
       "48   42148    6.363690e-07\n",
       "92   42192    6.363690e-07\n",
       "159  42259    6.363690e-07\n",
       "300  42400    6.363690e-07\n",
       "319  42419    6.363690e-07\n",
       "346  42446    6.363690e-07\n",
       "374  42474    9.998258e-01\n",
       "429  42529    6.363690e-07\n",
       "472  42572    9.998258e-01\n",
       "537  42637    9.998258e-01"
      ]
     },
     "execution_count": 13,
     "metadata": {},
     "output_type": "execute_result"
    }
   ],
   "source": [
    "train = pd.read_csv('/kaggle/input/playground-series-s3e7/train.csv')\n",
    "test = pd.read_csv('/kaggle/input/playground-series-s3e7/test.csv')\n",
    "\n",
    "y = 'booking_status'\n",
    "dup_features = test.drop(columns='id').columns.tolist()\n",
    "values_to_assign = test.merge(train.drop(columns='id'), on=dup_features, how='inner')[['id', y]]\n",
    "map_di = {0: sub[y].max(), 1: sub[y].min()}\n",
    "sub.loc[sub.id.isin(values_to_assign.id), y] = values_to_assign[y].map(map_di).values\n",
    "sub.loc[sub.id.isin(values_to_assign.id), y]\n",
    "\n",
    "sub.to_csv('submission.csv', index=False)\n",
    "sub.loc[sub.id.isin(values_to_assign.id)].head(10)"
   ]
  }
 ],
 "metadata": {
  "kernelspec": {
   "display_name": "Python 3",
   "language": "python",
   "name": "python3"
  },
  "language_info": {
   "codemirror_mode": {
    "name": "ipython",
    "version": 3
   },
   "file_extension": ".py",
   "mimetype": "text/x-python",
   "name": "python",
   "nbconvert_exporter": "python",
   "pygments_lexer": "ipython3",
   "version": "3.7.12"
  },
  "papermill": {
   "default_parameters": {},
   "duration": 714.61797,
   "end_time": "2023-02-26T19:59:37.014965",
   "environment_variables": {},
   "exception": null,
   "input_path": "__notebook__.ipynb",
   "output_path": "__notebook__.ipynb",
   "parameters": {},
   "start_time": "2023-02-26T19:47:42.396995",
   "version": "2.4.0"
  }
 },
 "nbformat": 4,
 "nbformat_minor": 5
}
